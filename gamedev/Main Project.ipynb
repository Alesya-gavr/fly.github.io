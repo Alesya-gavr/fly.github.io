{
 "cells": [
  {
   "cell_type": "markdown",
   "metadata": {},
   "source": [
    "**Цели исследования:** полный анализ игры после внесения изменений и  определение влияния этих изменений на вовлеченность пользователей в игру.\n",
    "\n",
    "Поставленные нашей командой **цели** достигаются путем выполнения следующих **задач:**\n",
    "\n",
    "1. Проверить, отличается ли время прохождения различных этапов для пользователей, которые прошли обучение, от пользователей, не начинавших обучение. \n",
    "2. Выяснить, как часто пользователи начинают обучение после того, как они выбрали уровень сложности. \n",
    "3. Посмотреть, существует ли зависимость между вероятностью оплаты вопросов и количеством обучений, которые начинал или завершал пользователь. \n",
    "\n"
   ]
  },
  {
   "cell_type": "markdown",
   "metadata": {},
   "source": [
    "# Задача 1\n",
    "## Проверить, отличается ли время прохождения различных этапов для пользователей, которые прошли обучение, от пользователей, не начинавших обучение. "
   ]
  },
  {
   "cell_type": "markdown",
   "metadata": {},
   "source": [
    "На этапе сбора и обработки данных были отобраны *общие этапы для 2-х групп* (проходивших и не проходивших обучение) \n",
    "для сравнения времени их прохождения с целью выявить сокращает ли обучение время прохождение этапов\n",
    "\n",
    "**Общие этапы:**\n",
    "\n",
    "Для группы пользователей, проходивших обучение 1-й этап игры - \n",
    "время между регистрацией и началом обучения\n",
    "\n",
    "Для группы пользователей, не проходивших обучение 1-й этап игры - \n",
    "время между регистрацией и выбором уровня сложности\n",
    "                                                 \n",
    "                                               2-й этап - время между выбором уровня сложности обучения и пакетом бесплатных                                                     \n",
    "                                               вопросов \n",
    "                                                  \n",
    "                                               3-й этап - время между выбором пакета бесплатных вопросов и оплаты пакета \n",
    "                                               платных вопросов\n"
   ]
  },
  {
   "cell_type": "code",
   "execution_count": 1,
   "metadata": {},
   "outputs": [
    {
     "data": {
      "text/html": [
       "<div>\n",
       "<style scoped>\n",
       "    .dataframe tbody tr th:only-of-type {\n",
       "        vertical-align: middle;\n",
       "    }\n",
       "\n",
       "    .dataframe tbody tr th {\n",
       "        vertical-align: top;\n",
       "    }\n",
       "\n",
       "    .dataframe thead th {\n",
       "        text-align: right;\n",
       "    }\n",
       "</style>\n",
       "<table border=\"1\" class=\"dataframe\">\n",
       "  <thead>\n",
       "    <tr style=\"text-align: right;\">\n",
       "      <th></th>\n",
       "      <th>id</th>\n",
       "      <th>event_type</th>\n",
       "      <th>selected_level</th>\n",
       "      <th>start_time</th>\n",
       "      <th>tutorial_id</th>\n",
       "      <th>user_id</th>\n",
       "    </tr>\n",
       "  </thead>\n",
       "  <tbody>\n",
       "    <tr>\n",
       "      <th>0</th>\n",
       "      <td>80309</td>\n",
       "      <td>registration</td>\n",
       "      <td>NaN</td>\n",
       "      <td>2018-01-01 04:07:25</td>\n",
       "      <td>NaN</td>\n",
       "      <td>27833</td>\n",
       "    </tr>\n",
       "    <tr>\n",
       "      <th>1</th>\n",
       "      <td>80310</td>\n",
       "      <td>registration</td>\n",
       "      <td>NaN</td>\n",
       "      <td>2018-01-01 08:35:10</td>\n",
       "      <td>NaN</td>\n",
       "      <td>27834</td>\n",
       "    </tr>\n",
       "    <tr>\n",
       "      <th>2</th>\n",
       "      <td>80311</td>\n",
       "      <td>registration</td>\n",
       "      <td>NaN</td>\n",
       "      <td>2018-01-01 11:54:47</td>\n",
       "      <td>NaN</td>\n",
       "      <td>27835</td>\n",
       "    </tr>\n",
       "    <tr>\n",
       "      <th>3</th>\n",
       "      <td>80312</td>\n",
       "      <td>registration</td>\n",
       "      <td>NaN</td>\n",
       "      <td>2018-01-01 13:28:07</td>\n",
       "      <td>NaN</td>\n",
       "      <td>27836</td>\n",
       "    </tr>\n",
       "    <tr>\n",
       "      <th>4</th>\n",
       "      <td>80315</td>\n",
       "      <td>tutorial_start</td>\n",
       "      <td>NaN</td>\n",
       "      <td>2018-01-01 14:54:40</td>\n",
       "      <td>31505.0</td>\n",
       "      <td>27836</td>\n",
       "    </tr>\n",
       "  </tbody>\n",
       "</table>\n",
       "</div>"
      ],
      "text/plain": [
       "      id      event_type selected_level          start_time  tutorial_id  \\\n",
       "0  80309    registration            NaN 2018-01-01 04:07:25          NaN   \n",
       "1  80310    registration            NaN 2018-01-01 08:35:10          NaN   \n",
       "2  80311    registration            NaN 2018-01-01 11:54:47          NaN   \n",
       "3  80312    registration            NaN 2018-01-01 13:28:07          NaN   \n",
       "4  80315  tutorial_start            NaN 2018-01-01 14:54:40      31505.0   \n",
       "\n",
       "   user_id  \n",
       "0    27833  \n",
       "1    27834  \n",
       "2    27835  \n",
       "3    27836  \n",
       "4    27836  "
      ]
     },
     "execution_count": 1,
     "metadata": {},
     "output_type": "execute_result"
    }
   ],
   "source": [
    "#импортируем библиотеки\n",
    "import pandas as pd\n",
    "#избавляемся от ненужных предупреждений\n",
    "import warnings; warnings.simplefilter('ignore') \n",
    "#читаем и записываем данные о действиях пользователей в датафрейм\n",
    "events=pd.read_csv('7_4_Events.csv')\n",
    "conditions= events[(events.event_type=='registration')&(events.start_time>='2018-01-01')&(events.start_time<'2019-01-01')]\n",
    "cond=conditions.user_id.to_list()\n",
    "#выводим пользователей, зарегистрированных в 2018 году\n",
    "#В дальнейшем вся обработка и анализ данных будут осуществляться только на пользователях, зарегистрированных в 2018 году\n",
    "events_18=events[events.user_id.isin(cond)]\n",
    "#приводим к рабочему формату времени\n",
    "events_18.start_time=pd.to_datetime(events_18.start_time, format='%Y-%m-%d %H:%M:%S')\n",
    "#читаем и записываем данные о совершенных покупках пользователей в датафрейм\n",
    "purchases=pd.read_csv('purchase.csv')\n",
    "#выбираем оплаты совершенные исключительно пользователями, зарегистрированными в 2018 году\n",
    "purchases_18=purchases[purchases.user_id.isin(cond)] \n",
    "purchases_18.event_datetime=pd.to_datetime(purchases_18.event_datetime, format='%Y-%m-%d %H:%M:%S')\n",
    "#записываем id пользователей, имеющих tutorial_finish, т.е. пользователей, прошедших обучение(закончивших его)\n",
    "tutorial_finish=events_18[events_18.event_type=='tutorial_finish'].user_id.unique()\n",
    "#выводим данные по пользователям с пройденным (и законченным) этапом обучения\n",
    "tutor_finish=events_18[events_18.user_id.isin(tutorial_finish)].reset_index(drop=True)\n",
    "tutor_finish.head()"
   ]
  },
  {
   "cell_type": "code",
   "execution_count": 2,
   "metadata": {},
   "outputs": [
    {
     "name": "stdout",
     "output_type": "stream",
     "text": [
      "\u001b[1mВремя между регистрацией и началом обучения у пользователей, прошедших обучения хотя бы 1 раз:\n",
      "\n",
      "\u001b[0m count                     10250\n",
      "mean     0 days 04:31:04.938146\n",
      "std      0 days 04:11:24.828137\n",
      "min             0 days 00:00:34\n",
      "25%      0 days 01:17:55.500000\n",
      "50%             0 days 03:13:48\n",
      "75%      0 days 06:37:27.750000\n",
      "max             1 days 16:03:46\n",
      "Name: timedelta, dtype: object\n"
     ]
    }
   ],
   "source": [
    "#выделяем этап регистрации пользователей для дальнейшего определения времени их регистрации\n",
    "reg_tutor_finish=tutor_finish[tutor_finish.event_type=='registration'].rename(columns={'start_time':'reg_time'})\n",
    "#проверяем среднее число  регистраций на 1 пользователя (проверяем наличие технической ошибки)\n",
    "check1=reg_tutor_finish.user_id.value_counts().mean()\n",
    "#выделяем этап начала обучения для определения времени этого этапа, сортирем по времени и выбираем время первого обучения\n",
    "#Т.к. количество обучений м.б. несколько, выделяем только первое обучение\n",
    "start_tutor_finish=tutor_finish[tutor_finish.event_type=='tutorial_start'].rename(columns={'start_time':'tut_start_time'}).sort_values('tut_start_time').drop_duplicates('user_id')\n",
    "#объединяем данные пользователей с выделенным этапом их регистрации с данными с выделенным этапом начала их обучения\n",
    "merge_finished_df1=reg_tutor_finish.merge(start_tutor_finish, on='user_id', how='inner')\n",
    "#выделяем из объединенной таблицы только нужные нам данные\n",
    "merge_finished_df1=merge_finished_df1[['user_id', 'reg_time', 'tut_start_time']]\n",
    "#определяем промежуток времени между этапом регистрации и этапом начала обучения\n",
    "merge_finished_df1['timedelta']=merge_finished_df1['tut_start_time']-merge_finished_df1['reg_time']\n",
    "print('\\033[1m'+'Время между регистрацией и началом обучения у пользователей, прошедших обучения хотя бы 1 раз:\\n\\n'+'\\033[0m', merge_finished_df1.timedelta.describe())\n"
   ]
  },
  {
   "cell_type": "code",
   "execution_count": 3,
   "metadata": {},
   "outputs": [
    {
     "name": "stdout",
     "output_type": "stream",
     "text": [
      "\u001b[1mВремя между выбором сложности обучения и пакетом бесплатных вопросов у пользователей прошедших обучение:\n",
      "\n",
      "\u001b[0m count                      5176\n",
      "mean     0 days 00:05:18.146058\n",
      "std      0 days 00:02:44.449118\n",
      "min             0 days 00:00:19\n",
      "25%             0 days 00:03:05\n",
      "50%             0 days 00:04:58\n",
      "75%             0 days 00:07:11\n",
      "max             0 days 00:15:48\n",
      "Name: timedelta, dtype: object\n"
     ]
    }
   ],
   "source": [
    "#выводим этап выбора уровня сложности \n",
    "level_choice_finish=tutor_finish[(tutor_finish.event_type=='level_choice')].rename(columns={'start_time':'level_choice_time'})\n",
    "#выводим этап выбора пакета бесплатных вопросов \n",
    "pack_choice_finish=tutor_finish[(tutor_finish.event_type=='pack_choice')].rename(columns={'start_time':'pack_choice_time'})\n",
    "#проверяем среднее число уровней сложности на 1 пользователя\n",
    "check1=level_choice_finish.user_id.value_counts().mean()\n",
    "#проверяем среднее число бесплатных пакетов на 1 пользователя \n",
    "check2=pack_choice_finish.user_id.value_counts().mean()\n",
    "#объединяем этап выбора уровня сложности с этапом выбора пакета бесплатных вопросов\n",
    "merge_finished_df2=level_choice_finish.merge(pack_choice_finish, on='user_id', how='inner')\n",
    "#выделяем из объединенной таблицы  только нужные нам данные\n",
    "merge_finished_df2=merge_finished_df2[['user_id', 'level_choice_time', 'pack_choice_time']]\n",
    "#определяем промежуток времени между этапом выбора уровня сложности и этапом выбора пакета бесплатных вопросов\n",
    "merge_finished_df2['timedelta']=merge_finished_df2['pack_choice_time']-merge_finished_df2['level_choice_time']\n",
    "print('\\033[1m'+'Время между выбором сложности обучения и пакетом бесплатных вопросов у пользователей прошедших обучение:\\n\\n'+'\\033[0m',merge_finished_df2.timedelta.describe())\n"
   ]
  },
  {
   "cell_type": "code",
   "execution_count": 4,
   "metadata": {},
   "outputs": [
    {
     "name": "stdout",
     "output_type": "stream",
     "text": [
      "\u001b[1mВремя между выбором пакета бесплатных вопросов и оплаты пакета платных вопросов у пользователей прошедших обучение:\n",
      "\n",
      "\u001b[0m count                      1447\n",
      "mean     3 days 17:17:59.641326\n",
      "std      2 days 04:31:59.804658\n",
      "min             0 days 00:44:50\n",
      "25%      1 days 21:16:05.500000\n",
      "50%             3 days 12:15:56\n",
      "75%      5 days 08:53:44.500000\n",
      "max            10 days 18:33:59\n",
      "Name: timedelta, dtype: object\n"
     ]
    }
   ],
   "source": [
    "#выделяем оплаты пользователей, прошедших обучение\n",
    "purchase_finish=purchases_18[purchases_18.user_id.isin(tutorial_finish)].rename(columns={'event_datetime':'purchase_time'})\n",
    "#объединяем этап выбора пакета бесплатных вопросов с этапом выбора пакета платных вопросов\n",
    "merge_finished_df3=pack_choice_finish.merge(purchase_finish, on='user_id', how='inner')\n",
    "#выделяем из объединенной таблицы только нужные нам данные\n",
    "merge_finished_df3=merge_finished_df3[['user_id', 'pack_choice_time', 'purchase_time']] \n",
    "#определяем промежуток времени между этапом выбора пакета бесплатных вопросов и этапом выбора пакета платных вопросов\n",
    "merge_finished_df3['timedelta']=merge_finished_df3['purchase_time']-merge_finished_df3['pack_choice_time']\n",
    "print('\\033[1m'+'Время между выбором пакета бесплатных вопросов и оплаты пакета платных вопросов у пользователей прошедших обучение:\\n\\n'+'\\033[0m', merge_finished_df3.timedelta.describe())\n"
   ]
  },
  {
   "cell_type": "code",
   "execution_count": 5,
   "metadata": {},
   "outputs": [
    {
     "name": "stdout",
     "output_type": "stream",
     "text": [
      "\u001b[1mВремя между регистрацией и выбором уровня сложности обучения у пользователей НЕ проходивших обучение:\n",
      "\n",
      "\u001b[0m count                        98\n",
      "mean     0 days 05:15:33.122448\n",
      "std      0 days 03:41:00.594664\n",
      "min             0 days 00:09:26\n",
      "25%      0 days 02:15:28.500000\n",
      "50%      0 days 04:56:05.500000\n",
      "75%             0 days 08:24:01\n",
      "max             0 days 18:34:21\n",
      "Name: timedelta, dtype: object\n"
     ]
    }
   ],
   "source": [
    "#Аналогичные действия осуществляем с пользователями не имеющими этап обучения tutorial_start\n",
    "#Т.к.некоторые пользователи проходят обучение несколько раз, у них имеется несколько данных начала время обучения, поэтому \n",
    "#убираем дубликаты пользователей, которые проходили обучение несколько раз и т.о. выбираем время первого обучения\n",
    "tutor_started=events_18[events_18.event_type=='tutorial_start'].sort_values('start_time').drop_duplicates('user_id')\n",
    "tutor_started_fix=tutor_started.user_id.unique()\n",
    "all_users=events_18.user_id.unique()\n",
    "set_all_users=set(all_users)\n",
    "not_started_tutorial=set_all_users.difference(tutor_started_fix)\n",
    "not_started_tutor=events_18[events_18.user_id.isin(not_started_tutorial)]\n",
    "reg_not_started_tutor=not_started_tutor[not_started_tutor.event_type=='registration'].rename(columns={'start_time':'reg_time'})\n",
    "level_choice_not_started=not_started_tutor[not_started_tutor.event_type=='level_choice'].rename(columns={'start_time':'level_choice_time'})\n",
    "merge_not_started_df1=reg_not_started_tutor.merge(level_choice_not_started, on='user_id', how='inner')\n",
    "merge_not_started_df1=merge_not_started_df1[['user_id', 'reg_time', 'level_choice_time']]\n",
    "merge_not_started_df1['timedelta']=merge_not_started_df1['level_choice_time']-merge_not_started_df1['reg_time']\n",
    "print('\\033[1m'+'Время между регистрацией и выбором уровня сложности обучения у пользователей НЕ проходивших обучение:\\n\\n'+'\\033[0m', merge_not_started_df1.timedelta.describe())\n"
   ]
  },
  {
   "cell_type": "code",
   "execution_count": 6,
   "metadata": {},
   "outputs": [
    {
     "name": "stdout",
     "output_type": "stream",
     "text": [
      "\u001b[1mВремя между выбором уровня сложности обучения и пакетом бесплатных вопросов  у пользователей НЕ прошедших обучение:\n",
      "\n",
      "\u001b[0m count                        74\n",
      "mean     0 days 00:05:23.824324\n",
      "std      0 days 00:03:01.230146\n",
      "min             0 days 00:00:48\n",
      "25%      0 days 00:03:09.750000\n",
      "50%      0 days 00:04:46.500000\n",
      "75%      0 days 00:07:11.250000\n",
      "max             0 days 00:13:32\n",
      "Name: timedelta, dtype: object\n"
     ]
    }
   ],
   "source": [
    "pack_not_started=not_started_tutor[not_started_tutor.event_type=='pack_choice'].rename(columns={'start_time':'pack_choice_time'})\n",
    "check5=pack_not_started.user_id.value_counts().mean()\n",
    "merge_not_started_df2=level_choice_not_started.merge(pack_not_started, on='user_id', how='inner')\n",
    "merge_not_started_df2=merge_not_started_df2[['user_id', 'level_choice_time', 'pack_choice_time']]\n",
    "merge_not_started_df2['timedelta']=merge_not_started_df2['pack_choice_time']-merge_not_started_df2['level_choice_time']\n",
    "print('\\033[1m'+'Время между выбором уровня сложности обучения и пакетом бесплатных вопросов  у пользователей НЕ прошедших обучение:\\n\\n'+'\\033[0m', merge_not_started_df2.timedelta.describe())\n"
   ]
  },
  {
   "cell_type": "code",
   "execution_count": 7,
   "metadata": {
    "scrolled": true
   },
   "outputs": [
    {
     "name": "stdout",
     "output_type": "stream",
     "text": [
      "\u001b[1mВремя между выбором пакета бесплатных вопросов и оплаты пакета платных вопросов у пользователей НЕ прошедших обучение:\n",
      "\n",
      "\u001b[0m count                        22\n",
      "mean     4 days 04:49:33.590909\n",
      "std      2 days 04:58:40.602573\n",
      "min             0 days 09:35:48\n",
      "25%             2 days 15:49:22\n",
      "50%             4 days 04:38:42\n",
      "75%      5 days 23:34:55.750000\n",
      "max             7 days 11:56:49\n",
      "Name: timedelta, dtype: object\n"
     ]
    }
   ],
   "source": [
    "purchase_not_started=purchases_18[purchases_18.user_id.isin(not_started_tutorial)].rename(columns={'event_datetime':'purchase_time'})\n",
    "check6=purchase_not_started.user_id.value_counts().mean( )\n",
    "merge_not_started_df3=purchase_not_started.merge(pack_not_started, on='user_id', how='inner')\n",
    "merge_not_started_df3=merge_not_started_df3[['user_id', 'pack_choice_time', 'purchase_time']]\n",
    "merge_not_started_df3['timedelta']=merge_not_started_df3['purchase_time']-merge_not_started_df3['pack_choice_time']\n",
    "print('\\033[1m'+'Время между выбором пакета бесплатных вопросов и оплаты пакета платных вопросов у пользователей НЕ прошедших обучение:\\n\\n'+'\\033[0m', merge_not_started_df3.timedelta.describe())\n",
    "\n"
   ]
  },
  {
   "cell_type": "markdown",
   "metadata": {},
   "source": [
    "**Выводы:**  ***на 1 этапе -*** \n",
    "\n",
    "-у группы пользователей, *прошедших обучение* среднее время составляет **4 часа 31 минуту**, четверть пользователей справляется за 1 час 17 мин  и половина пользователей- за 3 часа 13 мин; \n",
    "\n",
    "-у группы пользователей, *не имеющих этап обучения* среднее время составляет **5 часов 15 минут**, четверть пользователей справляется за 2 часа 15 минут и половина пользователей - за 4 часа 56 минут\n",
    "\n",
    "\n",
    "на ***2 этапе*** -\n",
    "\n",
    "\n",
    "-у группы пользователей, *прошедших обучение* среднее время составляет **5 секунд**, четверть пользователей справляется за 3 секунды  и половина пользователей- примерно за 5 секунд; \n",
    "\n",
    "-у группы пользователей, *не имеющих этап обучения* среднее время составляет **5 секунд**, четверть пользователей справляется за 3 секунды и половина пользователей - за примерно 5  секунд\n",
    "\n",
    "\n",
    "на ***3 этапе*** -\n",
    "\n",
    "\n",
    "-у группы пользователей, *прошедших обучение* среднее время составляет **3 дня 17 часов 17 минут**, четверть пользователей справляется за 1 день 21 час и 16 минут  и половина пользователей- за 3 дня 12 часов и 15 минут;\n",
    "\n",
    "-у группы пользователей, *не имеющих этап обучения* среднее время составляет **4 дня 4 часа 49 минут**, четверть пользователей справляется за 2 дня 15 часов и 49 минут и половина пользователей - за 4 дня 4 часа и 38 минут  \n",
    "\n",
    "**Таким образом** мы видим,что **время прохождения различных этапов у пользователей, которые прошли обучение ОТЛИЧАЕТСЯ от пользователей, не начинавших обучение.**\n",
    "\n",
    "Наличие **обучения:**\n",
    "\n",
    "**1. сокращает длительность 1-го этапа**\n",
    "\n",
    "(группа которая не имеет шага обучения и после этапа регистрации переходит сразу к этапу выбора уровня сложности, по всей видимости из-за отсутствия необходимых пояснений о прохождении всех последующих этапов игры на отсутствующем у этой группы этапе обучения, тормозится на шаге следующем за этапом регистрации и тким образом увеличивает время прохождения 1 этапа)\n",
    "\n",
    "**2. сокращает длительность 3-го этапа**\n",
    "\n",
    "(группа, прошедшая обучение быстрее переходит к покупке платного пакета)"
   ]
  },
  {
   "cell_type": "markdown",
   "metadata": {},
   "source": [
    "### График, визуализирующий длительность прохождения 1-го этапа пользователями, прошедшими обучение и не начинавшими его"
   ]
  },
  {
   "cell_type": "code",
   "execution_count": 8,
   "metadata": {},
   "outputs": [
    {
     "data": {
      "text/plain": [
       "Text(0.5, 1.0, 'Длительнсть прохождения 1-го этапа пользователями, прошедшими обучение и не начинавшими его')"
      ]
     },
     "execution_count": 8,
     "metadata": {},
     "output_type": "execute_result"
    },
    {
     "data": {
      "image/png": "[encoded data removed]",
      "text/plain": [
       "<Figure size 432x288 with 1 Axes>"
      ]
     },
     "metadata": {},
     "output_type": "display_data"
    }
   ],
   "source": [
    "merge_not_started_df1['user_id']='no_tutor'\n",
    "merge_finished_df1['user_id']='yes_tutor'\n",
    "common_1=pd.concat([merge_not_started_df1,merge_finished_df1],sort=False)\n",
    "common_1=common_1.reset_index(drop=True)\n",
    "common_1['timedelta']=common_1['timedelta'].astype('timedelta64[h]')#выделяем из timedelta часы h \n",
    "import pandas as pd\n",
    "import matplotlib.pyplot as plt\n",
    "import seaborn as sns\n",
    "%matplotlib inline\n",
    "sns.set()\n",
    "sns.barplot(x='user_id', y='timedelta', data=common_1)\n",
    "plt.title('Длительнсть прохождения 1-го этапа пользователями, прошедшими обучение и не начинавшими его')\n"
   ]
  },
  {
   "cell_type": "markdown",
   "metadata": {},
   "source": [
    "### График, визуализирующий длительность прохождения 2-го этапа пользователями, прошедшими обучение и не начинавшими его"
   ]
  },
  {
   "cell_type": "code",
   "execution_count": 9,
   "metadata": {},
   "outputs": [
    {
     "data": {
      "text/plain": [
       "Text(0.5, 1.0, 'Длительность прохождения 2-го этапа пользователями, прошедшими обучение и не  начинавшими его')"
      ]
     },
     "execution_count": 9,
     "metadata": {},
     "output_type": "execute_result"
    },
    {
     "data": {
      "image/png": "[encoded data removed]",
      "text/plain": [
       "<Figure size 432x288 with 1 Axes>"
      ]
     },
     "metadata": {},
     "output_type": "display_data"
    }
   ],
   "source": [
    "merge_not_started_df2['user_id']='no_tutor'\n",
    "merge_finished_df2['user_id']='yes_tutor'\n",
    "common_2=pd.concat([merge_not_started_df2,merge_finished_df2],sort=False)\n",
    "common_2=common_2.reset_index(drop=True)\n",
    "common_2['timedelta']=common_2['timedelta'].astype('timedelta64[h]')#выделяем из Timedelta часы h\n",
    "import pandas as pd\n",
    "import matplotlib.pyplot as plt\n",
    "import seaborn as sns\n",
    "%matplotlib inline\n",
    "sns.set()\n",
    "sns.barplot(x='user_id', y='timedelta', data=common_2)\n",
    "plt.title('Длительность прохождения 2-го этапа пользователями, прошедшими обучение и не  начинавшими его')\n",
    "#на данном графике пусто, т.к. 2-й этап составляет секунды, а на графике время отражено в часах"
   ]
  },
  {
   "cell_type": "markdown",
   "metadata": {},
   "source": [
    "### График, визуализирующий длительность прохождения 3-го этапа пользователями, прошедшими обучение и не начинавшими его"
   ]
  },
  {
   "cell_type": "code",
   "execution_count": 10,
   "metadata": {},
   "outputs": [
    {
     "data": {
      "text/plain": [
       "Text(0.5, 1.0, 'Длительность прохождения 3-го этапа игры, пользователями, проходившими обучение и не проходившими его')"
      ]
     },
     "execution_count": 10,
     "metadata": {},
     "output_type": "execute_result"
    },
    {
     "data": {
      "image/png": "[encoded data removed]",
      "text/plain": [
       "<Figure size 432x288 with 1 Axes>"
      ]
     },
     "metadata": {},
     "output_type": "display_data"
    }
   ],
   "source": [
    "merge_not_started_df3['user_id']='no_tutor'\n",
    "merge_finished_df3['user_id']='yes_tutor'\n",
    "common_3=pd.concat([merge_not_started_df3, merge_finished_df3], sort=False)\n",
    "common_3=common_3.reset_index(drop=True)\n",
    "common_3['timedelta']=common_3['timedelta'].astype('timedelta64[h]')#выделяем из timedelta часы h\n",
    "import pandas as pd\n",
    "import matplotlib.pyplot as plt\n",
    "import seaborn as sns\n",
    "%matplotlib inline\n",
    "sns.set()\n",
    "sns.barplot(x='user_id', y='timedelta', data=common_3)\n",
    "plt.title('Длительность прохождения 3-го этапа игры, пользователями, проходившими обучение и не проходившими его')"
   ]
  },
  {
   "cell_type": "markdown",
   "metadata": {},
   "source": [
    "### График, отражающий все этапы прохождения игры для 2-х групп пользователей\n",
    "\n",
    "*Данный график отражает наибольший вклад 3-го этапа во всю продолжительность прохождения игры, а также наибольшую продолжительность 3-го этапа у группы пользователей не прошедших обучение*"
   ]
  },
  {
   "cell_type": "code",
   "execution_count": 11,
   "metadata": {},
   "outputs": [
    {
     "data": {
      "text/plain": [
       "<matplotlib.axes._subplots.AxesSubplot at 0x32e519cb08>"
      ]
     },
     "execution_count": 11,
     "metadata": {},
     "output_type": "execute_result"
    },
    {
     "data": {
      "image/png": "[encoded data removed]",
      "text/plain": [
       "<Figure size 432x288 with 1 Axes>"
      ]
     },
     "metadata": {},
     "output_type": "display_data"
    }
   ],
   "source": [
    "common_1['levels']='1th_level'\n",
    "common_2['levels']='2th_level'\n",
    "common_3['levels']='3th_level'\n",
    "common_table=pd.concat([common_1, common_2, common_3])\n",
    "import pandas as pd\n",
    "import matplotlib.pyplot as plt\n",
    "import seaborn as sns\n",
    "sns.set()\n",
    "sns.boxplot(x='user_id', y='timedelta', data=common_table, hue='levels')\n"
   ]
  },
  {
   "cell_type": "markdown",
   "metadata": {},
   "source": [
    "# Задача 2\n",
    "## Выяснить, как часто пользователи начинают обучение после того, как они выбрали уровень сложности"
   ]
  },
  {
   "cell_type": "markdown",
   "metadata": {},
   "source": [
    "..для понимания насколько прозрачен процесс взаимодействия с игрой: если пользователи после выбора уровня сложности обращаются к обучению, значит, работа с приложением непонятна.\n",
    "\n",
    "Для этого нам необходимо вывести все уникальные пользовательские пути и определить как часто в них встречается возврат к этапу обучения (не только после этапа выбора уровня сложности)\n"
   ]
  },
  {
   "cell_type": "code",
   "execution_count": 12,
   "metadata": {},
   "outputs": [
    {
     "name": "stdout",
     "output_type": "stream",
     "text": [
      "Из 11858 пользователей, имеющих tutorial_start 490 пользователей начинают обучение после того как они выбрали уровень сложности \n",
      " 1776 пользователей начинают повторное обучение после его окончания\n",
      " 851 пользователей начинают повторное обучение после незаконченного предыдущего \n",
      " 903 пользователей начинают обучение после выбора пакета бесплатных вопросов \n",
      " 0 пользователей начинают повторное обучение после оплаты пакета платных вопросов\n",
      "\n"
     ]
    }
   ],
   "source": [
    "#добавляем в таблицу purchases_18 столбец event_type со значением purchase, чтобы при\n",
    "#склеивании с таблицей events_18 в столбце event_type были значения purchase как идентификатор оплаты, что необходимо для\n",
    "#дальнейшего анализа путей прохождения пользователей внутри игры\n",
    "purchases_18['event_type']='purchase'\n",
    "events_18=events_18.rename(columns={'id':'event_id'})\n",
    "purchases_18=purchases_18.rename(columns={'id':'purchases_id'})\n",
    "#склеиваем таблицы\n",
    "common_table=pd.concat([events_18, purchases_18], sort=False)\n",
    "#переустанавливаем индексы и сортируем по времени все события,чтобы они шли в порядке в котором пользователи их выбирали\n",
    "common_table=common_table.reset_index(drop=True).sort_values('start_time')\n",
    "#группируем все типы событий event_type по пользователям user_id, которые их совершили и складываем в список\n",
    "list_of_ways=common_table.groupby(['user_id'])['event_type'].apply(list).reset_index()\n",
    "list_of_ways['event_path'] = list_of_ways['event_type'].apply(lambda x: ' > '.join(str(x) for x in x))\n",
    "#выводим уникальные пути пользователей в игре и кол-во пользователей, идущих по этим путям\n",
    "groups_of_way=list_of_ways.groupby(['event_path'])['user_id'].nunique().sort_values(ascending=False)\n",
    "#выводим кол-во пользователей, которые выбирают этап старта обучения после этапа выбора уровня сложности\n",
    "ways_l_t=groups_of_way[groups_of_way.index.str.contains('level_choice > tutorial_start')]\n",
    "#выводим кол-во пользователей, которые выбирают этап старта обучения после этапа окончания обучения\n",
    "ways_f_s=groups_of_way[groups_of_way.index.str.contains('tutorial_finish > tutorial_start')]\n",
    "#выводим кол-во пользователей, которые выбирают этап старта обучения после незаконченного этапа обучения\n",
    "ways_s_s=groups_of_way[groups_of_way.index.str.contains('tutorial_start > tutorial_start')]\n",
    "#выводим кол-во пользователей, которые выбирают этап старта обучения после этапа выбора пакета бесплатных вопросов\n",
    "ways_pack_s=groups_of_way[groups_of_way.index.str.contains('pack_choice > tutorial_start')]\n",
    "#выводим кол-во пользователей, которые выбирают этап старта обучения после этапа покупки пакета платных вопросов\n",
    "ways_pur_s=groups_of_way[groups_of_way.index.str.contains('purchase > tutorial_start')]\n",
    "#считаем всех пользователей, которые начинали старт обучения хоть раз(пусть и не закончили его)\n",
    "users_with_tutorstart=events_18[events_18.event_type=='tutorial_start'].user_id.nunique()\n",
    "print('Из', users_with_tutorstart, 'пользователей, имеющих tutorial_start', sum(ways_l_t), 'пользователей начинают обучение после того как они выбрали уровень сложности \\n', sum(ways_f_s), 'пользователей начинают повторное обучение после его окончания\\n', sum(ways_s_s), 'пользователей начинают повторное обучение после незаконченного предыдущего \\n', sum(ways_pack_s), 'пользователей начинают обучение после выбора пакета бесплатных вопросов \\n', sum(ways_pur_s), 'пользователей начинают повторное обучение после оплаты пакета платных вопросов\\n')\n"
   ]
  },
  {
   "cell_type": "markdown",
   "metadata": {},
   "source": [
    "**Выводы** \n",
    "\n",
    "Т.к. многие пользователи (4020 пользователей из 11858 *а это на минуточку почти треть пользователей от всех,кто так или иначе начинал процесс обучения*) в процессе прохождения игры возвращаются к этапу прохождения обучения, значит работа с приложением не совсем понятна.\n",
    "Мы видим из данных, что бо́льшая часть пользователей, возвращающихся к процессу обучения - это группа пользователей сразу возвращающаяся к началу обучения после его окончания, видимо сам раздел обучения написан не совсем доступным языком, поэтому нам необходимо его оптимизировать.\n"
   ]
  },
  {
   "cell_type": "markdown",
   "metadata": {},
   "source": [
    "# Задача 3\n",
    "## Посмотреть, существует ли зависимость между вероятностью оплаты вопросов и количеством обучений, которые начинал или завершал пользователь"
   ]
  },
  {
   "cell_type": "code",
   "execution_count": 13,
   "metadata": {},
   "outputs": [
    {
     "name": "stdout",
     "output_type": "stream",
     "text": [
      "\u001b[1mСредний платеж пользователей, прошедших обучение 1,2,3,4,5,6,7,8,9 раз соответственно: \n",
      "\u001b[0m 109.75559237779619 \n",
      " 114.44954128440367 \n",
      " 111.27450980392157 \n",
      " 98.33333333333333 \n",
      " 121.875 \n",
      " 119.64285714285714 \n",
      " 110.41666666666667 \n",
      " 103.84615384615384 \n",
      " 117.6470588235294 \n",
      "\n",
      "\u001b[1m Таб.1 Количество обучений и платежей, осуществленных пользователями, имеющих этап обучения \n",
      "\u001b[0m\n"
     ]
    },
    {
     "data": {
      "text/html": [
       "<div>\n",
       "<style scoped>\n",
       "    .dataframe tbody tr th:only-of-type {\n",
       "        vertical-align: middle;\n",
       "    }\n",
       "\n",
       "    .dataframe tbody tr th {\n",
       "        vertical-align: top;\n",
       "    }\n",
       "\n",
       "    .dataframe thead th {\n",
       "        text-align: right;\n",
       "    }\n",
       "</style>\n",
       "<table border=\"1\" class=\"dataframe\">\n",
       "  <thead>\n",
       "    <tr style=\"text-align: right;\">\n",
       "      <th></th>\n",
       "      <th>user_id</th>\n",
       "      <th>tutorial_id</th>\n",
       "      <th>purchases_id</th>\n",
       "      <th>amount</th>\n",
       "    </tr>\n",
       "  </thead>\n",
       "  <tbody>\n",
       "    <tr>\n",
       "      <th>0</th>\n",
       "      <td>27845</td>\n",
       "      <td>2</td>\n",
       "      <td>1</td>\n",
       "      <td>100</td>\n",
       "    </tr>\n",
       "    <tr>\n",
       "      <th>1</th>\n",
       "      <td>27865</td>\n",
       "      <td>1</td>\n",
       "      <td>1</td>\n",
       "      <td>250</td>\n",
       "    </tr>\n",
       "    <tr>\n",
       "      <th>2</th>\n",
       "      <td>27884</td>\n",
       "      <td>3</td>\n",
       "      <td>1</td>\n",
       "      <td>150</td>\n",
       "    </tr>\n",
       "    <tr>\n",
       "      <th>3</th>\n",
       "      <td>27910</td>\n",
       "      <td>1</td>\n",
       "      <td>1</td>\n",
       "      <td>100</td>\n",
       "    </tr>\n",
       "    <tr>\n",
       "      <th>4</th>\n",
       "      <td>27911</td>\n",
       "      <td>1</td>\n",
       "      <td>1</td>\n",
       "      <td>50</td>\n",
       "    </tr>\n",
       "    <tr>\n",
       "      <th>...</th>\n",
       "      <td>...</td>\n",
       "      <td>...</td>\n",
       "      <td>...</td>\n",
       "      <td>...</td>\n",
       "    </tr>\n",
       "    <tr>\n",
       "      <th>1573</th>\n",
       "      <td>47671</td>\n",
       "      <td>1</td>\n",
       "      <td>1</td>\n",
       "      <td>200</td>\n",
       "    </tr>\n",
       "    <tr>\n",
       "      <th>1574</th>\n",
       "      <td>47687</td>\n",
       "      <td>1</td>\n",
       "      <td>1</td>\n",
       "      <td>100</td>\n",
       "    </tr>\n",
       "    <tr>\n",
       "      <th>1575</th>\n",
       "      <td>47712</td>\n",
       "      <td>1</td>\n",
       "      <td>1</td>\n",
       "      <td>50</td>\n",
       "    </tr>\n",
       "    <tr>\n",
       "      <th>1576</th>\n",
       "      <td>47732</td>\n",
       "      <td>1</td>\n",
       "      <td>1</td>\n",
       "      <td>150</td>\n",
       "    </tr>\n",
       "    <tr>\n",
       "      <th>1577</th>\n",
       "      <td>47742</td>\n",
       "      <td>1</td>\n",
       "      <td>1</td>\n",
       "      <td>50</td>\n",
       "    </tr>\n",
       "  </tbody>\n",
       "</table>\n",
       "<p>1578 rows × 4 columns</p>\n",
       "</div>"
      ],
      "text/plain": [
       "      user_id  tutorial_id  purchases_id  amount\n",
       "0       27845            2             1     100\n",
       "1       27865            1             1     250\n",
       "2       27884            3             1     150\n",
       "3       27910            1             1     100\n",
       "4       27911            1             1      50\n",
       "...       ...          ...           ...     ...\n",
       "1573    47671            1             1     200\n",
       "1574    47687            1             1     100\n",
       "1575    47712            1             1      50\n",
       "1576    47732            1             1     150\n",
       "1577    47742            1             1      50\n",
       "\n",
       "[1578 rows x 4 columns]"
      ]
     },
     "execution_count": 13,
     "metadata": {},
     "output_type": "execute_result"
    }
   ],
   "source": [
    "#выделяем пользователей, которые начинали или завершали обучение\n",
    "tutors_18=events_18[(events_18.event_type=='tutorial_start')|(events_18.event_type=='tutorial_finish')].user_id.unique()\n",
    "#отражаем все действия этих пользователей\n",
    "tutors=events_18[events_18.user_id.isin(tutors_18)].reset_index(drop=True)\n",
    "tutors = tutors.dropna(axis='index', how='any', subset=['tutorial_id'])\n",
    "#считаем кол-во обучений (законченных или нет) для каждого пользователя\n",
    "tutors_amount=tutors.pivot_table(values=['tutorial_id'],\n",
    "                    index=['user_id'],\n",
    "                    aggfunc='nunique')\n",
    "#преобразуем в датафрейм, для последующего возможного объединения 2-х датафреймов\n",
    "tutors_amount=tutors_amount['tutorial_id'].to_frame()\n",
    "#считаем кол-во оплат для каждого пользователя\n",
    "purchases_amount=purchases_18.pivot_table(values=['purchases_id'],\n",
    "                    index=['user_id'],\n",
    "                    aggfunc='nunique')\n",
    "#преобразуем в датафрейм, для последующего возможного объединения 2-х датафреймов\n",
    "purchases_amount=purchases_amount['purchases_id'].to_frame()\n",
    "#объединяем 2 датафрейма, отражая пользователей, осуществивших оплату n-ое кол-во раз, прошедших обучение n-ое кол-во раз\n",
    "pur_tut_amount=tutors_amount.merge(purchases_amount, on='user_id', how='inner')\n",
    "#объединяем с purchases_18 для отображения оплаты amount\n",
    "total_table=pur_tut_amount.merge(purchases_18, on='user_id', how='inner')\n",
    "#отражаем только нужные нам данные, переименовываем столбцы\n",
    "total_table=total_table[['user_id', 'tutorial_id', 'purchases_id_x', 'amount']].rename(columns={'purchases_id_x':'purchases_id'})\n",
    "#определяем уникальные значения кол-в обучений tutorial_id\n",
    "tutor_values=total_table.tutorial_id.unique()\n",
    "#определяем средний платеж пользователей, прошедших обучений 1,2,3,4,5,6,7,8,9 раз соответственно\n",
    "avg_1=total_table[total_table.tutorial_id==1].amount.mean()\n",
    "avg_2=total_table[total_table.tutorial_id==2].amount.mean()\n",
    "avg_3=total_table[total_table.tutorial_id==3].amount.mean()\n",
    "avg_4=total_table[total_table.tutorial_id==4].amount.mean()\n",
    "avg_5=total_table[total_table.tutorial_id==5].amount.mean()\n",
    "avg_6=total_table[total_table.tutorial_id==6].amount.mean()\n",
    "avg_7=total_table[total_table.tutorial_id==7].amount.mean()\n",
    "avg_8=total_table[total_table.tutorial_id==8].amount.mean()\n",
    "avg_9=total_table[total_table.tutorial_id==9].amount.mean()\n",
    "print('\\033[1m'+'Средний платеж пользователей, прошедших обучение 1,2,3,4,5,6,7,8,9 раз соответственно: \\n'+'\\033[0m', avg_1 ,'\\n', avg_2,'\\n', avg_3,'\\n', avg_4,'\\n', avg_5,'\\n', avg_6,'\\n', avg_7,'\\n', avg_8,'\\n', avg_9,'\\n')\n",
    "print('\\033[1m'+' Таб.1 Количество обучений и платежей, осуществленных пользователями, имеющих этап обучения \\n'+'\\033[0m')\n",
    "total_table\n"
   ]
  },
  {
   "cell_type": "markdown",
   "metadata": {},
   "source": [
    "Как видно из приведенной выше таблицы 1578 платящих пользователей из общего их количества 1600 проходят обучение(начинают и не завершают либо завершают), количество обучений варьируется от 1 до 9, количество платежей по 1 у каждого пользователя.\n",
    "\n",
    "**Выводы:**\n",
    "1. Сам факт прохождение обучения положительно влияет на осуществление платежа, поэтому **зависимость между прохождением обучения и вероятностью оплаты вопросов СУЩЕСТВУЕТ**\n",
    "2. Количество пройденных обучений не влияет на количество платежей\n",
    "3. Между количеством обучений и средним чеком нет устойчивой корреляции"
   ]
  },
  {
   "cell_type": "markdown",
   "metadata": {},
   "source": [
    "### Круговая диаграмма, отражающая зависимость кол-ва пройденных обучений от кол-ва оплат"
   ]
  },
  {
   "cell_type": "code",
   "execution_count": 14,
   "metadata": {},
   "outputs": [
    {
     "data": {
      "text/plain": [
       "Text(0.5, 1.0, 'Процент оплат для группы пользователей в зависимости от количества обучений')"
      ]
     },
     "execution_count": 14,
     "metadata": {},
     "output_type": "execute_result"
    },
    {
     "data": {
      "image/png": "[encoded data removed]",
      "text/plain": [
       "<Figure size 432x288 with 1 Axes>"
      ]
     },
     "metadata": {},
     "output_type": "display_data"
    }
   ],
   "source": [
    "import pandas as pd\n",
    "import matplotlib.pyplot as plt\n",
    "%matplotlib inline\n",
    "total_table['purchases_id']='purchase'\n",
    "total_table.groupby(['tutorial_id'])['purchases_id'].nunique().plot.pie()\n",
    "plt.title('Процент оплат для группы пользователей в зависимости от количества обучений')"
   ]
  },
  {
   "cell_type": "markdown",
   "metadata": {},
   "source": [
    "# Задача 4 (самопоставленная)\n",
    "## Выявить, существует ли зависимость между выбранным уровнем обучения и вероятностью оплаты"
   ]
  },
  {
   "cell_type": "code",
   "execution_count": 15,
   "metadata": {},
   "outputs": [
    {
     "name": "stdout",
     "output_type": "stream",
     "text": [
      "Кол-во платящих пользователей, выбравших уровень easy: 189 и их средний чек: 114.94708994708995 \n",
      " Кол-во платящих пользователей, выбравших уровень medium: 969 и их средний чек: 109.52012383900929 \n",
      " Кол-во платящих пользователей, выбравших уровень hard: 442 и их средний чек: 111.59502262443439\n"
     ]
    }
   ],
   "source": [
    "#выделяем пользователей, выбравших уровень обучения easy\n",
    "easy_level_users=events_18[events_18.selected_level=='easy'].user_id.unique()\n",
    "#подсчитываем кол-во пользователей с уровнем обучения easy, оплативших пакет вопросов\n",
    "easy_choice=purchases_18[purchases_18.user_id.isin(easy_level_users)].user_id.nunique()\n",
    "#подсчитываем средний чек этих пользователей\n",
    "easy_avg_recipe=purchases_18[purchases_18.user_id.isin(easy_level_users)].amount.mean()\n",
    "#выделяем пользователей, выбравших уровень обучения medium\n",
    "medium_level_users=events_18[events_18.selected_level=='medium'].user_id.unique()\n",
    "#подсчитываем кол-во пользователей с уровнем обучения medium, оплативших пакет вопросов\n",
    "medium_choice=purchases_18[purchases_18.user_id.isin(medium_level_users)].user_id.nunique()\n",
    "#подсчитываем средний чек этих пользователей\n",
    "medium_avg_recipe=purchases_18[purchases_18.user_id.isin(medium_level_users)].amount.mean()\n",
    "#выделяем пользователей, выбравших уровень обучения hard\n",
    "hard_level_users=events_18[events_18.selected_level=='hard'].user_id.unique()\n",
    "#подсчитываем кол-во пользователей с уровнем обучения hard, оплативших пакет вопросов\n",
    "hard_choice=purchases_18[purchases_18.user_id.isin(hard_level_users)].user_id.nunique()\n",
    "#подсчитываем средний чек этих пользователей\n",
    "hard_avg_recipe=purchases_18[purchases_18.user_id.isin(hard_level_users)].amount.mean()\n",
    "print('Кол-во платящих пользователей, выбравших уровень easy:', easy_choice,'и их средний чек:', easy_avg_recipe,'\\n', 'Кол-во платящих пользователей, выбравших уровень medium:', medium_choice,'и их средний чек:', medium_avg_recipe,'\\n', 'Кол-во платящих пользователей, выбравших уровень hard:', hard_choice, 'и их средний чек:', hard_avg_recipe)\n"
   ]
  },
  {
   "cell_type": "markdown",
   "metadata": {},
   "source": [
    " **Вывод:** наибольшее кол-во пользователей, купивших платные пакеты - это пользователи выбравшие уровень medium (средней сложности). Существенной разницы в среднем чеке не наблюдается.\n",
    "\n",
    "Вполне вероятно, что выпросы уровня easy не заинтересовывают для осуществления покупки пакета платных вопросов и игра кажется не цепляющей, вовлеченность пользоватей маленькая, а на уровне hard вопросы слишком трудные, что возможно демотивирует многих пользователей.\n",
    "\n",
    "Сл-но команде необходимо оптимизировать именно этих 2 уровня:\n",
    "\n",
    "-*hard-уровень*\n",
    "\n",
    "Возможно целесообразным будет миксовать на hard-уровне степень сложности вопросов(70 % вопросов-hard уровня, 30%-уровня medium(или просто чуть менее сложные) и при неправильном ответе на вопрос из категории 70% тут же давать менее сложный вопрос,чтобы предыдущий неправильно отвеченный подзадоривал, а последующий менее сложный не давал сдаться(дразнить надо,люди любят это), а также добавить мотивационного контента (\"каждый неправильный твой ответ-это новое знание в копилку\", \"нету глупых людей, есть неинтересующиеся и здающиеся\", \"не знал ответа? мой бывший не знал слова 'картон', ему было 20\"\n",
    "\n",
    "-*easy-уровень*\n",
    "\n",
    "Возможно целесообразным будет пересмотреть степень легкости вопросов и чуть усложнить данный уровень\n",
    "\n",
    "\n",
    "\n"
   ]
  },
  {
   "cell_type": "code",
   "execution_count": null,
   "metadata": {},
   "outputs": [],
   "source": []
  }
 ],
 "metadata": {
  "kernelspec": {
   "display_name": "Python 3",
   "language": "python",
   "name": "python3"
  },
  "language_info": {
   "codemirror_mode": {
    "name": "ipython",
    "version": 3
   },
   "file_extension": ".py",
   "mimetype": "text/x-python",
   "name": "python",
   "nbconvert_exporter": "python",
   "pygments_lexer": "ipython3",
   "version": "3.7.6"
  }
 },
 "nbformat": 4,
 "nbformat_minor": 4
}
